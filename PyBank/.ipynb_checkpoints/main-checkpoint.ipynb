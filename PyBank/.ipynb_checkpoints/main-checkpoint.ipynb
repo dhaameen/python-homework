{
 "cells": [
  {
   "cell_type": "code",
   "execution_count": 18,
   "id": "5a059a8a-d001-488d-b66d-bcb258d5318e",
   "metadata": {},
   "outputs": [],
   "source": [
    "#import pathlib and csv\n",
    "from pathlib import Path\n",
    "import csv\n",
    "\n",
    "#set the file path\n",
    "csvpath = Path(r\"C:\\Users\\dhaam\\Documents\\Fintech Course\\Homework\\Unit2homework\\python-homework\\PyBank\\budget_data.csv\")"
   ]
  },
  {
   "cell_type": "code",
   "execution_count": 108,
   "id": "250146fb-80dc-42b3-acec-03a633b2bd1b",
   "metadata": {},
   "outputs": [],
   "source": [
    "#Initialise variable to hold months and profits_losses\n",
    "months = []\n",
    "profits_losses = []\n",
    "\n",
    "#Initialise line_num variable\n",
    "line_num = 0"
   ]
  },
  {
   "cell_type": "code",
   "execution_count": null,
   "id": "4d64e9c6-1200-4c82-b520-856c703fb7c4",
   "metadata": {},
   "outputs": [],
   "source": [
    "#Open the input path as a file object\n",
    "with open(csvpath, 'r') as csvfile:\n",
    "    #pass in the csvfile to the csv.reader() function (with ',' as the delimiter/separator) and return the csvreader object \n",
    "    csvreader = csv.reader(csvfile, delimiter=',')\n",
    "    #print the datatype of the csv reader\n",
    "    print(type(csvreader))\n",
    "   # Read the header row first\n",
    "    header = next(csvreader)\n",
    "    line_num += 1\n",
    "    #print the header\n",
    "    print(header)\n",
    "    #read each row of data after the header\n",
    "    for row in csvreader:\n",
    "        #print the row in the csv (this returns a list)\n",
    "        print(row)\n",
    "        #set Date value equal to the value in the 0 column of each row\n",
    "        date = str(row[0])\n",
    "        #set pnl value equal to the value in the 1st column of each row\n",
    "        pnl = int(row[1])\n",
    "        #append the row date value to the list of months and the row pnl value to the list of profits_losses\n",
    "        months.append(date)\n",
    "        profits_losses.append(pnl)\n",
    "    \n",
    "#create variable for total months\n",
    "total_months = len(months)\n",
    "\n",
    "#create variable for total pnl\n",
    "total_pnl = sum(profits_losses)"
   ]
  },
  {
   "cell_type": "code",
   "execution_count": null,
   "id": "43220895-09c7-41b7-b17b-163961872405",
   "metadata": {},
   "outputs": [],
   "source": []
  },
  {
   "cell_type": "code",
   "execution_count": 153,
   "id": "0f1383b6-8da4-46b9-bd59-b4a386d8f9c6",
   "metadata": {},
   "outputs": [
    {
     "ename": "SyntaxError",
     "evalue": "f-string: empty expression not allowed (Temp/ipykernel_16200/3395164859.py, line 7)",
     "output_type": "error",
     "traceback": [
      "\u001b[1;36m  File \u001b[1;32m\"C:\\Users\\dhaam\\AppData\\Local\\Temp/ipykernel_16200/3395164859.py\"\u001b[1;36m, line \u001b[1;32m7\u001b[0m\n\u001b[1;33m    print(f\"Average Change: {}\")\u001b[0m\n\u001b[1;37m         ^\u001b[0m\n\u001b[1;31mSyntaxError\u001b[0m\u001b[1;31m:\u001b[0m f-string: empty expression not allowed\n"
     ]
    }
   ],
   "source": [
    "print(\"FINANCIAL ANALYSIS\")\n",
    "#print total months\n",
    "print(f\"Total Months: {total_months}\")\n",
    "#print total pnl\n",
    "print(f\"Total: {total_pnl}\")\n",
    "#print average change\n",
    "print(f\"Average Change: {}\")\n",
    "#print greatest increse in profits\n",
    "print(f\"Greatest Increase in Profits {}\")\n",
    "#print greatest decrease in profits\n",
    "print(f\"Greatest Decrease in Profits {}\")"
   ]
  },
  {
   "cell_type": "code",
   "execution_count": null,
   "id": "a45ec812-3ed9-4d17-8825-4ff5911eb647",
   "metadata": {},
   "outputs": [],
   "source": []
  }
 ],
 "metadata": {
  "kernelspec": {
   "display_name": "Python 3 (ipykernel)",
   "language": "python",
   "name": "python3"
  },
  "language_info": {
   "codemirror_mode": {
    "name": "ipython",
    "version": 3
   },
   "file_extension": ".py",
   "mimetype": "text/x-python",
   "name": "python",
   "nbconvert_exporter": "python",
   "pygments_lexer": "ipython3",
   "version": "3.7.11"
  }
 },
 "nbformat": 4,
 "nbformat_minor": 5
}
