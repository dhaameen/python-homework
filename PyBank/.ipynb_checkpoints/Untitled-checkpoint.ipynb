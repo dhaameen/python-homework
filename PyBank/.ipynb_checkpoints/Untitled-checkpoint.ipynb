{
 "cells": [
  {
   "cell_type": "code",
   "execution_count": 862,
   "id": "3fbdb0f3-4394-46e2-868b-cf8e43dfa99a",
   "metadata": {},
   "outputs": [],
   "source": [
    "#import pathlib and csv\n",
    "from pathlib import Path\n",
    "import csv\n",
    "\n",
    "#set the file path\n",
    "csvpath = Path(r\"C:\\Users\\dhaam\\Documents\\Fintech Course\\Homework\\Unit2homework\\python-homework\\PyBank\\budget_data.csv\")\n",
    "\n",
    "#Initialise variable to create a budget dictionary\n",
    "budget = {}\n",
    "total_months = 0\n",
    "total_pnl = 0\n",
    "date = 0\n",
    "pnl = 0\n",
    "monthly_change = []\n",
    "previous_pnl = 0\n",
    "greatest_increase = [\"\", [0]]\n",
    "greatest_decrease = [\"\",[100000000000000]]\n",
    "\n",
    "#Open the input path as a file object\n",
    "with open(csvpath, 'r') as csvfile:\n",
    "    #pass in the csvfile to the csv.reader() function (with ',' as the delimiter/separator) and return the csvreader object \n",
    "    csvreader = csv.reader(csvfile, delimiter=',')\n",
    "   # Read the header row first\n",
    "    header = next(csvreader)\n",
    "   \n",
    "    #read each row of data after the header into the dictionary\n",
    "    for row in csvreader:\n",
    "        date = 0\n",
    "        pnl = 1\n",
    "        budget[row[date]] = int(row[pnl])\n",
    "        \n",
    "#iterate over each item in the dictionary\n",
    "for date,pnl in budget.items():\n",
    "    #calculate total months\n",
    "    total_months = total_months + 1\n",
    "    #calculate total revenue\n",
    "    total_pnl = total_pnl + pnl\n",
    "    \n",
    "    #calculate difference between pnl rows and append to a list\n",
    "    pnlchange = pnl - previous_pnl\n",
    "    if total_months > 1:\n",
    "        monthly_change.append(pnlchange)\n",
    "    #track rows as changes are calculated\n",
    "    previous_pnl = pnl\n",
    "    \n",
    "    #calculate the greatest increase\n",
    "    if (monthly_change > greatest_increase[1]):\n",
    "        greatest_increase[1] = monthly_change\n",
    "        greatest_increase[0] = row[0]\n",
    "    #calculate the greatest decrease\n",
    "    if (monthly_change < greatest_decrease[1]):\n",
    "        greatest_decrease[1] = monthly_change\n",
    "        greatest_decrease[0] = row[0]\n",
    "\n",
    "#caculate average change rounded to 2 decmial places\n",
    "average = sum(monthly_change)/len(monthly_change)"
   ]
  },
  {
   "cell_type": "code",
   "execution_count": 833,
   "id": "eb7c12b5-0ff3-4648-b51f-d970edc3da0d",
   "metadata": {},
   "outputs": [
    {
     "name": "stdout",
     "output_type": "stream",
     "text": [
      "-2196167\n"
     ]
    }
   ],
   "source": []
  },
  {
   "cell_type": "code",
   "execution_count": 853,
   "id": "5ad1faf8-9d12-4057-8158-b31a5bbb8867",
   "metadata": {},
   "outputs": [
    {
     "name": "stdout",
     "output_type": "stream",
     "text": [
      "Total Months: 86\n",
      "Total: 38382578\n",
      "Average Change: -2315.12\n",
      "Greatest increase in profit: \n",
      "Greatest decrease in profit: \n"
     ]
    }
   ],
   "source": [
    "print(f\"Total Months: {total_months}\")\n",
    "print(f\"Total: {total_pnl}\")\n",
    "print(f\"Average Change: {round(average, 2)}\")\n",
    "print(f\"Greatest increase in profit: \")\n",
    "print(f\"Greatest decrease in profit: \")"
   ]
  },
  {
   "cell_type": "code",
   "execution_count": 860,
   "id": "737e734b-4e2c-4a78-ad4c-2ffad6ff19ad",
   "metadata": {},
   "outputs": [
    {
     "name": "stdout",
     "output_type": "stream",
     "text": [
      "Feb-2017 1926159\n"
     ]
    }
   ],
   "source": [
    "print(greatest_increase[0], max(greatest_increase[1]))"
   ]
  },
  {
   "cell_type": "code",
   "execution_count": null,
   "id": "975026bd-2da1-43cb-a41d-22870355ce8a",
   "metadata": {},
   "outputs": [],
   "source": []
  }
 ],
 "metadata": {
  "kernelspec": {
   "display_name": "Python 3 (ipykernel)",
   "language": "python",
   "name": "python3"
  },
  "language_info": {
   "codemirror_mode": {
    "name": "ipython",
    "version": 3
   },
   "file_extension": ".py",
   "mimetype": "text/x-python",
   "name": "python",
   "nbconvert_exporter": "python",
   "pygments_lexer": "ipython3",
   "version": "3.7.11"
  }
 },
 "nbformat": 4,
 "nbformat_minor": 5
}
